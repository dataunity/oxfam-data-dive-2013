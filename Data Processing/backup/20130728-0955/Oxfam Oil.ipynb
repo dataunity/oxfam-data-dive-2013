{
 "metadata": {
  "name": "Oxfam Oil"
 },
 "nbformat": 3,
 "nbformat_minor": 0,
 "worksheets": [
  {
   "cells": [
    {
     "cell_type": "code",
     "collapsed": false,
     "input": [
      "import pandas as pd\n",
      "from pandas import DataFrame\n"
     ],
     "language": "python",
     "metadata": {},
     "outputs": [],
     "prompt_number": 63
    },
    {
     "cell_type": "code",
     "collapsed": false,
     "input": [
      "#base_dir = '/media/sf_Share/OpenData/Oxfam Datasets/Oil Cleaned/Years'\n",
      "base_dir = '/media/sf_Share/OpenData/Oxfam Datasets/Oil/Transformed/Years/csv/'\n",
      "#filename = 'Population_(Millions).xls'\n",
      "#filename = 'Crude_Oil_Distillation_Capacity_(Thousand_Barrels_Per_Cal_Day)_1970_2012.xls'\n",
      "filename = 'Crude_Oil_Distillation_Capacity_(Thousand_Barrels_Per_Cal_Day).csv'\n",
      "#filename = 'Crude_Oil_Distillation_Capacity_(Thousand_Barrels_Per_Cal_Day)_1970_2012.xls'\n",
      "file1_path = base_dir + filename\n",
      "output_path = base_dir + 'output/' + filename"
     ],
     "language": "python",
     "metadata": {},
     "outputs": [],
     "prompt_number": 96
    },
    {
     "cell_type": "code",
     "collapsed": false,
     "input": [
      "table = pd.read_csv(file1_path)#, index_col=False)\n",
      "col_names = table.columns.tolist()\n",
      "col_names[0] = 'Country'\n",
      "col_names[1] = 'Ignore'\n",
      "table.columns = col_names\n",
      "table = table.set_index('Country')\n",
      "table = table.reset_index()\n",
      "table.columns = ['Country', 'Year', 'Values']\n",
      "table.to_csv(output_path)\n"
     ],
     "language": "python",
     "metadata": {},
     "outputs": [],
     "prompt_number": 153
    },
    {
     "cell_type": "code",
     "collapsed": false,
     "input": [
      "#xls_file = pd.ExcelFile(file1_path)\n",
      "#table = xls_file.parse('Data3', index=False)\n",
      "#table\n",
      "#table.stack()\n",
      "#table_stacked = table.stack()\n",
      "#table_stacked = DataFrame(table_stacked)\n",
      "\n",
      "#table_stacked.index.names = ('Country', 'Other', 'Year')\n",
      "#table_stacked = table.stack()\n",
      "#table_stacked = table_stacked.reset_index()\n",
      "#table_stacked.reset_index(level=['Country', 'Year'])\n",
      "#type(table_stacked)\n",
      "#len(table_stacked.index.names)\n",
      "#table_stacked.reset_index(inplace=True)\n",
      "#table_stacked.reset_index(inplace=True)\n",
      "#table_stacked.index\n",
      "#type(table_stacked)\n",
      "#len(table_stacked.columns)\n",
      "#table_stacked = table_stacked.reset_index()\n",
      "#table_stacked.columns.names = ['Country', 'File', 'Date', 'Population']\n",
      "#table_stacked\n",
      "#table_stacked.reset_index()\n",
      "#len(table_stacked.columns.names)\n",
      "#table.columns.names = ['Country', 'File', 'Date', 'Population']\n",
      "#table[2]\n",
      "#table_stacked.to_csv(output_path)\n",
      "\n",
      "#table2 = pd.read_csv(output_path, index_col=False)\n",
      "#table2\n",
      "#table2.reset_index(inplace=True)\n",
      "#table2.columns.names = ['a', 'b', 'c', 'd']"
     ],
     "language": "python",
     "metadata": {},
     "outputs": [
      {
       "ename": "InvalidFileException",
       "evalue": "File is not a zip file",
       "output_type": "pyerr",
       "traceback": [
        "\u001b[1;31m---------------------------------------------------------------------------\u001b[0m\n\u001b[1;31mInvalidFileException\u001b[0m                      Traceback (most recent call last)",
        "\u001b[1;32m<ipython-input-97-ce1f156daa5a>\u001b[0m in \u001b[0;36m<module>\u001b[1;34m()\u001b[0m\n\u001b[1;32m----> 1\u001b[1;33m \u001b[0mxls_file\u001b[0m \u001b[1;33m=\u001b[0m \u001b[0mpd\u001b[0m\u001b[1;33m.\u001b[0m\u001b[0mExcelFile\u001b[0m\u001b[1;33m(\u001b[0m\u001b[0mfile1_path\u001b[0m\u001b[1;33m)\u001b[0m\u001b[1;33m\u001b[0m\u001b[0m\n\u001b[0m\u001b[0;32m      2\u001b[0m \u001b[0mtable\u001b[0m \u001b[1;33m=\u001b[0m \u001b[0mxls_file\u001b[0m\u001b[1;33m.\u001b[0m\u001b[0mparse\u001b[0m\u001b[1;33m(\u001b[0m\u001b[1;34m'Data3'\u001b[0m\u001b[1;33m,\u001b[0m \u001b[0mindex\u001b[0m\u001b[1;33m=\u001b[0m\u001b[0mFalse\u001b[0m\u001b[1;33m)\u001b[0m\u001b[1;33m\u001b[0m\u001b[0m\n\u001b[0;32m      3\u001b[0m \u001b[0mtable\u001b[0m\u001b[1;33m\u001b[0m\u001b[0m\n\u001b[0;32m      4\u001b[0m \u001b[1;31m#table.stack()\u001b[0m\u001b[1;33m\u001b[0m\u001b[1;33m\u001b[0m\u001b[0m\n\u001b[0;32m      5\u001b[0m \u001b[1;31m#table_stacked = table.stack()\u001b[0m\u001b[1;33m\u001b[0m\u001b[1;33m\u001b[0m\u001b[0m\n",
        "\u001b[1;32m/home/normal/Projects/OpenData/env/local/lib/python2.7/site-packages/pandas-0.10.1-py2.7-linux-i686.egg/pandas/io/parsers.pyc\u001b[0m in \u001b[0;36m__init__\u001b[1;34m(self, path_or_buf, kind)\u001b[0m\n\u001b[0;32m   1826\u001b[0m                 \u001b[1;32mtry\u001b[0m\u001b[1;33m:\u001b[0m\u001b[1;33m\u001b[0m\u001b[0m\n\u001b[0;32m   1827\u001b[0m                     \u001b[1;32mfrom\u001b[0m \u001b[0mopenpyxl\u001b[0m\u001b[1;33m.\u001b[0m\u001b[0mreader\u001b[0m\u001b[1;33m.\u001b[0m\u001b[0mexcel\u001b[0m \u001b[1;32mimport\u001b[0m \u001b[0mload_workbook\u001b[0m\u001b[1;33m\u001b[0m\u001b[0m\n\u001b[1;32m-> 1828\u001b[1;33m                     \u001b[0mself\u001b[0m\u001b[1;33m.\u001b[0m\u001b[0mbook\u001b[0m \u001b[1;33m=\u001b[0m \u001b[0mload_workbook\u001b[0m\u001b[1;33m(\u001b[0m\u001b[0mpath_or_buf\u001b[0m\u001b[1;33m,\u001b[0m \u001b[0muse_iterators\u001b[0m\u001b[1;33m=\u001b[0m\u001b[0mTrue\u001b[0m\u001b[1;33m)\u001b[0m\u001b[1;33m\u001b[0m\u001b[0m\n\u001b[0m\u001b[0;32m   1829\u001b[0m                 \u001b[1;32mexcept\u001b[0m \u001b[0mImportError\u001b[0m\u001b[1;33m:\u001b[0m  \u001b[1;31m# pragma: no cover\u001b[0m\u001b[1;33m\u001b[0m\u001b[0m\n\u001b[0;32m   1830\u001b[0m                     \u001b[1;32mraise\u001b[0m \u001b[0mImportError\u001b[0m\u001b[1;33m(\u001b[0m\u001b[0m_openpyxl_msg\u001b[0m\u001b[1;33m)\u001b[0m\u001b[1;33m\u001b[0m\u001b[0m\n",
        "\u001b[1;32m/home/normal/Projects/OpenData/env/local/lib/python2.7/site-packages/openpyxl/reader/excel.pyc\u001b[0m in \u001b[0;36mload_workbook\u001b[1;34m(filename, use_iterators)\u001b[0m\n\u001b[0;32m    114\u001b[0m         \u001b[1;32mexcept\u001b[0m \u001b[0mBadZipfile\u001b[0m\u001b[1;33m:\u001b[0m\u001b[1;33m\u001b[0m\u001b[0m\n\u001b[0;32m    115\u001b[0m             \u001b[0me\u001b[0m \u001b[1;33m=\u001b[0m \u001b[0mexc_info\u001b[0m\u001b[1;33m(\u001b[0m\u001b[1;33m)\u001b[0m\u001b[1;33m[\u001b[0m\u001b[1;36m1\u001b[0m\u001b[1;33m]\u001b[0m\u001b[1;33m\u001b[0m\u001b[0m\n\u001b[1;32m--> 116\u001b[1;33m             \u001b[1;32mraise\u001b[0m \u001b[0mInvalidFileException\u001b[0m\u001b[1;33m(\u001b[0m\u001b[0municode\u001b[0m\u001b[1;33m(\u001b[0m\u001b[0me\u001b[0m\u001b[1;33m)\u001b[0m\u001b[1;33m)\u001b[0m\u001b[1;33m\u001b[0m\u001b[0m\n\u001b[0m\u001b[0;32m    117\u001b[0m     \u001b[1;32mexcept\u001b[0m \u001b[1;33m(\u001b[0m\u001b[0mBadZipfile\u001b[0m\u001b[1;33m,\u001b[0m \u001b[0mRuntimeError\u001b[0m\u001b[1;33m,\u001b[0m \u001b[0mIOError\u001b[0m\u001b[1;33m,\u001b[0m \u001b[0mValueError\u001b[0m\u001b[1;33m)\u001b[0m\u001b[1;33m:\u001b[0m\u001b[1;33m\u001b[0m\u001b[0m\n\u001b[0;32m    118\u001b[0m         \u001b[0me\u001b[0m \u001b[1;33m=\u001b[0m \u001b[0mexc_info\u001b[0m\u001b[1;33m(\u001b[0m\u001b[1;33m)\u001b[0m\u001b[1;33m[\u001b[0m\u001b[1;36m1\u001b[0m\u001b[1;33m]\u001b[0m\u001b[1;33m\u001b[0m\u001b[0m\n",
        "\u001b[1;31mInvalidFileException\u001b[0m: File is not a zip file"
       ]
      }
     ],
     "prompt_number": 97
    },
    {
     "cell_type": "code",
     "collapsed": false,
     "input": [
      "# file1 = pd.read_csv()"
     ],
     "language": "python",
     "metadata": {},
     "outputs": []
    }
   ],
   "metadata": {}
  }
 ]
}