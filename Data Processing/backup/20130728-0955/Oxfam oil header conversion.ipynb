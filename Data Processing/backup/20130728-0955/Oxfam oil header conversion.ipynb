{
 "metadata": {
  "name": "Oxfam oil header conversion"
 },
 "nbformat": 3,
 "nbformat_minor": 0,
 "worksheets": [
  {
   "cells": [
    {
     "cell_type": "code",
     "collapsed": false,
     "input": [
      "import csv\n",
      "\n",
      "dir_path = '/home/normal/Projects/OpenData/Oxfam/Site/OilWorking/Production by month/'\n",
      "filename = 'Production_of_Crude_Oil_including_Lease_Condensate_(Thousand_Barrels_Per_Day).csv'\n",
      "output_filename = 'Production_of_Crude_Oil_including_Lease_Condensate_(Thousand_Barrels_Per_Day)_merged_header.csv'\n",
      "filepath = dir_path + filename\n",
      "output_filepath = dir_path + output_filename"
     ],
     "language": "python",
     "metadata": {},
     "outputs": [],
     "prompt_number": 32
    },
    {
     "cell_type": "code",
     "collapsed": false,
     "input": [
      "# Merge first two header columns\n",
      "csvfile = open(filepath)\n",
      "output_cache = ''\n",
      "\n",
      "# Get the first row (years)\n",
      "line_index = 0\n",
      "for line in csvfile:\n",
      "    if line_index == 0:\n",
      "        # Get years from first line\n",
      "        years = line.split(',')\n",
      "        years[len(years) - 1] = years[len(years) - 1].replace('\\n', '')\n",
      "    elif line_index == 1:\n",
      "        # Join years onto month names\n",
      "        months = line.split(',')\n",
      "        months[len(months) - 1] = months[len(months) - 1].replace('\\n', '')\n",
      "        assert len(years) == len(months)\n",
      "        i = 0\n",
      "        for i in range(len(months)):\n",
      "            if i > 0:\n",
      "                output_cache += ','\n",
      "            output_cache += months[i] + ' ' + years[i]\n",
      "        output_cache += '\\n'\n",
      "    else:\n",
      "        output_cache += line\n",
      "        #output_cache += '\\n'\n",
      "    line_index = line_index + 1\n",
      "\n",
      "with open(output_filepath, 'wb') as f:\n",
      "    f.write(output_cache)\n",
      "    \n",
      "\n"
     ],
     "language": "python",
     "metadata": {},
     "outputs": [],
     "prompt_number": 33
    }
   ],
   "metadata": {}
  }
 ]
}